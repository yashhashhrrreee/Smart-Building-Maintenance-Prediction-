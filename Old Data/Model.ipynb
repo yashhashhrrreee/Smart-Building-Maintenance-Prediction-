{
 "cells": [
  {
   "cell_type": "code",
   "execution_count": 2,
   "metadata": {},
   "outputs": [],
   "source": [
    "import pandas as pd\n",
    "import numpy as np\n",
    "import seaborn as sns\n",
    "import matplotlib.pyplot as plt\n",
    "from scipy import stats\n",
    "\n",
    "# Ignore warnings\n",
    "import warnings\n",
    "warnings.filterwarnings(\"ignore\")"
   ]
  },
  {
   "cell_type": "code",
   "execution_count": 3,
   "metadata": {},
   "outputs": [],
   "source": [
    "data = pd.read_csv('D:\\Study\\Sem VI\\Smart-Building-Maintenance-Prediction-\\data_no_outliers.csv')"
   ]
  },
  {
   "cell_type": "code",
   "execution_count": 4,
   "metadata": {},
   "outputs": [],
   "source": [
    "df = data.copy()"
   ]
  },
  {
   "cell_type": "code",
   "execution_count": 5,
   "metadata": {},
   "outputs": [],
   "source": [
    "# drop coumn roomid\n",
    "df = df.drop(['roomid'], axis=1)"
   ]
  },
  {
   "cell_type": "code",
   "execution_count": 6,
   "metadata": {},
   "outputs": [
    {
     "data": {
      "text/plain": [
       "(13691548, 6)"
      ]
     },
     "execution_count": 6,
     "metadata": {},
     "output_type": "execute_result"
    }
   ],
   "source": [
    "df.shape"
   ]
  },
  {
   "cell_type": "code",
   "execution_count": 7,
   "metadata": {},
   "outputs": [
    {
     "name": "stdout",
     "output_type": "stream",
     "text": [
      "Unique values in the 'pir' column:\n",
      "[ 0. 30. 29. 28. 27. 26. 25. 24. 23. 22. 21. 20. 19. 18. 17. 16. 15. 14.\n",
      " 13. 12. 11. 10.  9.  8.  7.  6.  5.  4.  3.  2.  1.]\n"
     ]
    }
   ],
   "source": [
    "unique_values_pir = df['pir'].unique()\n",
    "print(\"Unique values in the 'pir' column:\")\n",
    "print(unique_values_pir)"
   ]
  },
  {
   "cell_type": "code",
   "execution_count": 8,
   "metadata": {},
   "outputs": [],
   "source": [
    "# Function to find outliers using Z-score\n",
    "def find_outliers_z_score(data):\n",
    "    threshold = 3\n",
    "    mean = np.mean(data)\n",
    "    std = np.std(data)\n",
    "    z_scores = [(x - mean) / std for x in data]\n",
    "    return np.abs(z_scores) > threshold\n",
    "\n",
    "# Function to find outliers using IQR (Interquartile Range)\n",
    "def find_outliers_iqr(data):\n",
    "    q1, q3 = np.percentile(data, [25, 75])\n",
    "    iqr = q3 - q1\n",
    "    lower_bound = q1 - (1.5 * iqr)\n",
    "    upper_bound = q3 + (1.5 * iqr)\n",
    "    return (data < lower_bound) | (data > upper_bound)"
   ]
  },
  {
   "cell_type": "code",
   "execution_count": 9,
   "metadata": {},
   "outputs": [
    {
     "name": "stdout",
     "output_type": "stream",
     "text": [
      "Percentage of outliers in each column:\n",
      "timestamp: 0.00%\n",
      "co2: 4.27%\n",
      "humidity: 0.68%\n",
      "light: 18.42%\n",
      "pir: 4.67%\n",
      "temperature: 5.52%\n"
     ]
    }
   ],
   "source": [
    "# Finding outliers and calculating the percentage\n",
    "outliers_percentage = {}\n",
    "for column in df.columns:\n",
    "    outliers_z = find_outliers_z_score(df[column])\n",
    "    outliers_iqr = find_outliers_iqr(df[column])\n",
    "    total_outliers = outliers_z | outliers_iqr\n",
    "    percentage = (np.sum(total_outliers) / len(df)) * 100\n",
    "    outliers_percentage[column] = percentage\n",
    "\n",
    "print(\"Percentage of outliers in each column:\")\n",
    "for column, percentage in outliers_percentage.items():\n",
    "    print(f\"{column}: {percentage:.2f}%\")"
   ]
  },
  {
   "cell_type": "code",
   "execution_count": 10,
   "metadata": {},
   "outputs": [],
   "source": [
    "# Perform data transformation (log transformation)\n",
    "df_transformed = df.copy()\n",
    "df_transformed['co2'] = np.log(df['co2'])\n",
    "df_transformed['humidity'] = np.log(df['humidity'])\n",
    "df_transformed['light'] = np.log(df['light'])\n",
    "df_transformed['temperature'] = np.log(df['temperature'])\n",
    "\n",
    "# Impute outliers with median value\n",
    "for column in df_transformed.columns:\n",
    "    outliers_z = find_outliers_z_score(df_transformed[column])\n",
    "    outliers_iqr = find_outliers_iqr(df_transformed[column])\n",
    "    total_outliers = outliers_z | outliers_iqr\n",
    "    median_value = np.median(df_transformed[column])\n",
    "    df_transformed.loc[total_outliers, column] = median_value"
   ]
  },
  {
   "cell_type": "code",
   "execution_count": 11,
   "metadata": {},
   "outputs": [
    {
     "data": {
      "text/html": [
       "<div>\n",
       "<style scoped>\n",
       "    .dataframe tbody tr th:only-of-type {\n",
       "        vertical-align: middle;\n",
       "    }\n",
       "\n",
       "    .dataframe tbody tr th {\n",
       "        vertical-align: top;\n",
       "    }\n",
       "\n",
       "    .dataframe thead th {\n",
       "        text-align: right;\n",
       "    }\n",
       "</style>\n",
       "<table border=\"1\" class=\"dataframe\">\n",
       "  <thead>\n",
       "    <tr style=\"text-align: right;\">\n",
       "      <th></th>\n",
       "      <th>timestamp</th>\n",
       "      <th>co2</th>\n",
       "      <th>humidity</th>\n",
       "      <th>light</th>\n",
       "      <th>pir</th>\n",
       "      <th>temperature</th>\n",
       "    </tr>\n",
       "  </thead>\n",
       "  <tbody>\n",
       "    <tr>\n",
       "      <th>0</th>\n",
       "      <td>1377299108</td>\n",
       "      <td>6.204558</td>\n",
       "      <td>4.041998</td>\n",
       "      <td>4.574711</td>\n",
       "      <td>0.0</td>\n",
       "      <td>3.175551</td>\n",
       "    </tr>\n",
       "    <tr>\n",
       "      <th>1</th>\n",
       "      <td>1377299110</td>\n",
       "      <td>6.188264</td>\n",
       "      <td>4.041998</td>\n",
       "      <td>4.574711</td>\n",
       "      <td>0.0</td>\n",
       "      <td>3.175551</td>\n",
       "    </tr>\n",
       "    <tr>\n",
       "      <th>2</th>\n",
       "      <td>1377299126</td>\n",
       "      <td>6.188264</td>\n",
       "      <td>4.041998</td>\n",
       "      <td>4.574711</td>\n",
       "      <td>0.0</td>\n",
       "      <td>3.175133</td>\n",
       "    </tr>\n",
       "    <tr>\n",
       "      <th>3</th>\n",
       "      <td>1377299127</td>\n",
       "      <td>6.206576</td>\n",
       "      <td>4.041998</td>\n",
       "      <td>4.574711</td>\n",
       "      <td>0.0</td>\n",
       "      <td>3.175133</td>\n",
       "    </tr>\n",
       "    <tr>\n",
       "      <th>4</th>\n",
       "      <td>1377299130</td>\n",
       "      <td>6.204558</td>\n",
       "      <td>4.041998</td>\n",
       "      <td>4.574711</td>\n",
       "      <td>0.0</td>\n",
       "      <td>3.175133</td>\n",
       "    </tr>\n",
       "  </tbody>\n",
       "</table>\n",
       "</div>"
      ],
      "text/plain": [
       "    timestamp       co2  humidity     light  pir  temperature\n",
       "0  1377299108  6.204558  4.041998  4.574711  0.0     3.175551\n",
       "1  1377299110  6.188264  4.041998  4.574711  0.0     3.175551\n",
       "2  1377299126  6.188264  4.041998  4.574711  0.0     3.175133\n",
       "3  1377299127  6.206576  4.041998  4.574711  0.0     3.175133\n",
       "4  1377299130  6.204558  4.041998  4.574711  0.0     3.175133"
      ]
     },
     "execution_count": 11,
     "metadata": {},
     "output_type": "execute_result"
    }
   ],
   "source": [
    "df_transformed.head()"
   ]
  },
  {
   "cell_type": "code",
   "execution_count": 12,
   "metadata": {},
   "outputs": [
    {
     "name": "stdout",
     "output_type": "stream",
     "text": [
      "Percentage of outliers in each column after transformation and imputation:\n",
      "timestamp: 0.00%\n",
      "co2: 1.61%\n",
      "humidity: 0.31%\n",
      "light: 0.00%\n",
      "pir: 0.00%\n",
      "temperature: 3.11%\n"
     ]
    }
   ],
   "source": [
    "# Recalculate the percentage of outliers in each column\n",
    "outliers_percentage_transformed = {}\n",
    "for column in df_transformed.columns:\n",
    "    outliers_z = find_outliers_z_score(df_transformed[column])\n",
    "    outliers_iqr = find_outliers_iqr(df_transformed[column])\n",
    "    total_outliers = outliers_z | outliers_iqr\n",
    "    percentage = (np.sum(total_outliers) / len(df_transformed)) * 100\n",
    "    outliers_percentage_transformed[column] = percentage\n",
    "\n",
    "print(\"Percentage of outliers in each column after transformation and imputation:\")\n",
    "for column, percentage in outliers_percentage_transformed.items():\n",
    "    print(f\"{column}: {percentage:.2f}%\")"
   ]
  },
  {
   "cell_type": "code",
   "execution_count": 13,
   "metadata": {},
   "outputs": [
    {
     "data": {
      "text/plain": [
       "(13691548, 6)"
      ]
     },
     "execution_count": 13,
     "metadata": {},
     "output_type": "execute_result"
    }
   ],
   "source": [
    "df_transformed.shape"
   ]
  },
  {
   "cell_type": "code",
   "execution_count": 14,
   "metadata": {},
   "outputs": [
    {
     "data": {
      "text/html": [
       "<div>\n",
       "<style scoped>\n",
       "    .dataframe tbody tr th:only-of-type {\n",
       "        vertical-align: middle;\n",
       "    }\n",
       "\n",
       "    .dataframe tbody tr th {\n",
       "        vertical-align: top;\n",
       "    }\n",
       "\n",
       "    .dataframe thead th {\n",
       "        text-align: right;\n",
       "    }\n",
       "</style>\n",
       "<table border=\"1\" class=\"dataframe\">\n",
       "  <thead>\n",
       "    <tr style=\"text-align: right;\">\n",
       "      <th></th>\n",
       "      <th>timestamp</th>\n",
       "      <th>co2</th>\n",
       "      <th>humidity</th>\n",
       "      <th>light</th>\n",
       "      <th>pir</th>\n",
       "      <th>temperature</th>\n",
       "    </tr>\n",
       "  </thead>\n",
       "  <tbody>\n",
       "    <tr>\n",
       "      <th>0</th>\n",
       "      <td>1377299108</td>\n",
       "      <td>6.204558</td>\n",
       "      <td>4.041998</td>\n",
       "      <td>4.574711</td>\n",
       "      <td>0.0</td>\n",
       "      <td>3.175551</td>\n",
       "    </tr>\n",
       "    <tr>\n",
       "      <th>1</th>\n",
       "      <td>1377299110</td>\n",
       "      <td>6.188264</td>\n",
       "      <td>4.041998</td>\n",
       "      <td>4.574711</td>\n",
       "      <td>0.0</td>\n",
       "      <td>3.175551</td>\n",
       "    </tr>\n",
       "    <tr>\n",
       "      <th>2</th>\n",
       "      <td>1377299126</td>\n",
       "      <td>6.188264</td>\n",
       "      <td>4.041998</td>\n",
       "      <td>4.574711</td>\n",
       "      <td>0.0</td>\n",
       "      <td>3.175133</td>\n",
       "    </tr>\n",
       "    <tr>\n",
       "      <th>3</th>\n",
       "      <td>1377299127</td>\n",
       "      <td>6.206576</td>\n",
       "      <td>4.041998</td>\n",
       "      <td>4.574711</td>\n",
       "      <td>0.0</td>\n",
       "      <td>3.175133</td>\n",
       "    </tr>\n",
       "    <tr>\n",
       "      <th>4</th>\n",
       "      <td>1377299130</td>\n",
       "      <td>6.204558</td>\n",
       "      <td>4.041998</td>\n",
       "      <td>4.574711</td>\n",
       "      <td>0.0</td>\n",
       "      <td>3.175133</td>\n",
       "    </tr>\n",
       "    <tr>\n",
       "      <th>5</th>\n",
       "      <td>1377299131</td>\n",
       "      <td>6.204558</td>\n",
       "      <td>4.041998</td>\n",
       "      <td>4.574711</td>\n",
       "      <td>0.0</td>\n",
       "      <td>3.175133</td>\n",
       "    </tr>\n",
       "    <tr>\n",
       "      <th>6</th>\n",
       "      <td>1377299134</td>\n",
       "      <td>6.214608</td>\n",
       "      <td>4.041998</td>\n",
       "      <td>4.574711</td>\n",
       "      <td>0.0</td>\n",
       "      <td>3.175133</td>\n",
       "    </tr>\n",
       "    <tr>\n",
       "      <th>7</th>\n",
       "      <td>1377299136</td>\n",
       "      <td>6.214608</td>\n",
       "      <td>4.041998</td>\n",
       "      <td>4.574711</td>\n",
       "      <td>0.0</td>\n",
       "      <td>3.174715</td>\n",
       "    </tr>\n",
       "    <tr>\n",
       "      <th>8</th>\n",
       "      <td>1377299139</td>\n",
       "      <td>6.204558</td>\n",
       "      <td>4.041998</td>\n",
       "      <td>4.574711</td>\n",
       "      <td>0.0</td>\n",
       "      <td>3.174715</td>\n",
       "    </tr>\n",
       "    <tr>\n",
       "      <th>9</th>\n",
       "      <td>1377299141</td>\n",
       "      <td>6.204558</td>\n",
       "      <td>4.041998</td>\n",
       "      <td>4.564348</td>\n",
       "      <td>0.0</td>\n",
       "      <td>3.174715</td>\n",
       "    </tr>\n",
       "  </tbody>\n",
       "</table>\n",
       "</div>"
      ],
      "text/plain": [
       "    timestamp       co2  humidity     light  pir  temperature\n",
       "0  1377299108  6.204558  4.041998  4.574711  0.0     3.175551\n",
       "1  1377299110  6.188264  4.041998  4.574711  0.0     3.175551\n",
       "2  1377299126  6.188264  4.041998  4.574711  0.0     3.175133\n",
       "3  1377299127  6.206576  4.041998  4.574711  0.0     3.175133\n",
       "4  1377299130  6.204558  4.041998  4.574711  0.0     3.175133\n",
       "5  1377299131  6.204558  4.041998  4.574711  0.0     3.175133\n",
       "6  1377299134  6.214608  4.041998  4.574711  0.0     3.175133\n",
       "7  1377299136  6.214608  4.041998  4.574711  0.0     3.174715\n",
       "8  1377299139  6.204558  4.041998  4.574711  0.0     3.174715\n",
       "9  1377299141  6.204558  4.041998  4.564348  0.0     3.174715"
      ]
     },
     "execution_count": 14,
     "metadata": {},
     "output_type": "execute_result"
    }
   ],
   "source": [
    "df_transformed.head(10)"
   ]
  },
  {
   "cell_type": "code",
   "execution_count": 15,
   "metadata": {},
   "outputs": [
    {
     "name": "stdout",
     "output_type": "stream",
     "text": [
      "Percentage of outliers in each column after dropping outliers:\n",
      "timestamp: 0.00%\n",
      "co2: 0.00%\n",
      "humidity: 0.00%\n",
      "light: 0.00%\n",
      "pir: 0.00%\n",
      "temperature: 0.00%\n"
     ]
    }
   ],
   "source": [
    "# Drop outliers from the dataset, excluding 'pir' column\n",
    "df_cleaned = df_transformed.copy()\n",
    "for column in df_cleaned.columns:\n",
    "    outliers_z = find_outliers_z_score(df_cleaned[column])\n",
    "    outliers_iqr = find_outliers_iqr(df_cleaned[column])\n",
    "    total_outliers = outliers_z | outliers_iqr\n",
    "    # Exclude 'pir' column from dropping outliers\n",
    "    if column != 'pir':\n",
    "        df_cleaned = df_cleaned[~total_outliers]\n",
    "\n",
    "# Recalculate the percentage of outliers in each column after dropping outliers\n",
    "outliers_percentage_cleaned = {}\n",
    "for column in df_cleaned.columns:\n",
    "    percentage = 0.0  # No outliers after dropping\n",
    "    outliers_percentage_cleaned[column] = percentage\n",
    "\n",
    "print(\"Percentage of outliers in each column after dropping outliers:\")\n",
    "for column, percentage in outliers_percentage_cleaned.items():\n",
    "    print(f\"{column}: {percentage:.2f}%\")\n"
   ]
  },
  {
   "cell_type": "code",
   "execution_count": 16,
   "metadata": {},
   "outputs": [
    {
     "data": {
      "text/plain": [
       "(13006661, 6)"
      ]
     },
     "execution_count": 16,
     "metadata": {},
     "output_type": "execute_result"
    }
   ],
   "source": [
    "df_cleaned.shape"
   ]
  },
  {
   "cell_type": "code",
   "execution_count": 17,
   "metadata": {},
   "outputs": [
    {
     "data": {
      "text/html": [
       "<div>\n",
       "<style scoped>\n",
       "    .dataframe tbody tr th:only-of-type {\n",
       "        vertical-align: middle;\n",
       "    }\n",
       "\n",
       "    .dataframe tbody tr th {\n",
       "        vertical-align: top;\n",
       "    }\n",
       "\n",
       "    .dataframe thead th {\n",
       "        text-align: right;\n",
       "    }\n",
       "</style>\n",
       "<table border=\"1\" class=\"dataframe\">\n",
       "  <thead>\n",
       "    <tr style=\"text-align: right;\">\n",
       "      <th></th>\n",
       "      <th>timestamp</th>\n",
       "      <th>co2</th>\n",
       "      <th>humidity</th>\n",
       "      <th>light</th>\n",
       "      <th>pir</th>\n",
       "      <th>temperature</th>\n",
       "    </tr>\n",
       "  </thead>\n",
       "  <tbody>\n",
       "    <tr>\n",
       "      <th>0</th>\n",
       "      <td>1377299108</td>\n",
       "      <td>6.204558</td>\n",
       "      <td>4.041998</td>\n",
       "      <td>4.574711</td>\n",
       "      <td>0.0</td>\n",
       "      <td>3.175551</td>\n",
       "    </tr>\n",
       "    <tr>\n",
       "      <th>1</th>\n",
       "      <td>1377299110</td>\n",
       "      <td>6.188264</td>\n",
       "      <td>4.041998</td>\n",
       "      <td>4.574711</td>\n",
       "      <td>0.0</td>\n",
       "      <td>3.175551</td>\n",
       "    </tr>\n",
       "    <tr>\n",
       "      <th>2</th>\n",
       "      <td>1377299126</td>\n",
       "      <td>6.188264</td>\n",
       "      <td>4.041998</td>\n",
       "      <td>4.574711</td>\n",
       "      <td>0.0</td>\n",
       "      <td>3.175133</td>\n",
       "    </tr>\n",
       "    <tr>\n",
       "      <th>3</th>\n",
       "      <td>1377299127</td>\n",
       "      <td>6.206576</td>\n",
       "      <td>4.041998</td>\n",
       "      <td>4.574711</td>\n",
       "      <td>0.0</td>\n",
       "      <td>3.175133</td>\n",
       "    </tr>\n",
       "    <tr>\n",
       "      <th>4</th>\n",
       "      <td>1377299130</td>\n",
       "      <td>6.204558</td>\n",
       "      <td>4.041998</td>\n",
       "      <td>4.574711</td>\n",
       "      <td>0.0</td>\n",
       "      <td>3.175133</td>\n",
       "    </tr>\n",
       "    <tr>\n",
       "      <th>5</th>\n",
       "      <td>1377299131</td>\n",
       "      <td>6.204558</td>\n",
       "      <td>4.041998</td>\n",
       "      <td>4.574711</td>\n",
       "      <td>0.0</td>\n",
       "      <td>3.175133</td>\n",
       "    </tr>\n",
       "    <tr>\n",
       "      <th>6</th>\n",
       "      <td>1377299134</td>\n",
       "      <td>6.214608</td>\n",
       "      <td>4.041998</td>\n",
       "      <td>4.574711</td>\n",
       "      <td>0.0</td>\n",
       "      <td>3.175133</td>\n",
       "    </tr>\n",
       "    <tr>\n",
       "      <th>7</th>\n",
       "      <td>1377299136</td>\n",
       "      <td>6.214608</td>\n",
       "      <td>4.041998</td>\n",
       "      <td>4.574711</td>\n",
       "      <td>0.0</td>\n",
       "      <td>3.174715</td>\n",
       "    </tr>\n",
       "    <tr>\n",
       "      <th>8</th>\n",
       "      <td>1377299139</td>\n",
       "      <td>6.204558</td>\n",
       "      <td>4.041998</td>\n",
       "      <td>4.574711</td>\n",
       "      <td>0.0</td>\n",
       "      <td>3.174715</td>\n",
       "    </tr>\n",
       "    <tr>\n",
       "      <th>9</th>\n",
       "      <td>1377299141</td>\n",
       "      <td>6.204558</td>\n",
       "      <td>4.041998</td>\n",
       "      <td>4.564348</td>\n",
       "      <td>0.0</td>\n",
       "      <td>3.174715</td>\n",
       "    </tr>\n",
       "  </tbody>\n",
       "</table>\n",
       "</div>"
      ],
      "text/plain": [
       "    timestamp       co2  humidity     light  pir  temperature\n",
       "0  1377299108  6.204558  4.041998  4.574711  0.0     3.175551\n",
       "1  1377299110  6.188264  4.041998  4.574711  0.0     3.175551\n",
       "2  1377299126  6.188264  4.041998  4.574711  0.0     3.175133\n",
       "3  1377299127  6.206576  4.041998  4.574711  0.0     3.175133\n",
       "4  1377299130  6.204558  4.041998  4.574711  0.0     3.175133\n",
       "5  1377299131  6.204558  4.041998  4.574711  0.0     3.175133\n",
       "6  1377299134  6.214608  4.041998  4.574711  0.0     3.175133\n",
       "7  1377299136  6.214608  4.041998  4.574711  0.0     3.174715\n",
       "8  1377299139  6.204558  4.041998  4.574711  0.0     3.174715\n",
       "9  1377299141  6.204558  4.041998  4.564348  0.0     3.174715"
      ]
     },
     "execution_count": 17,
     "metadata": {},
     "output_type": "execute_result"
    }
   ],
   "source": [
    "df_cleaned.head(10)"
   ]
  },
  {
   "cell_type": "code",
   "execution_count": 18,
   "metadata": {},
   "outputs": [],
   "source": [
    "pearson_corr = df_cleaned.corr(method='pearson')"
   ]
  },
  {
   "cell_type": "code",
   "execution_count": 19,
   "metadata": {},
   "outputs": [],
   "source": [
    "# Calculate Spearman rank correlation coefficient\n",
    "spearman_corr = df_cleaned.corr(method='spearman')"
   ]
  },
  {
   "cell_type": "code",
   "execution_count": 20,
   "metadata": {},
   "outputs": [
    {
     "name": "stdout",
     "output_type": "stream",
     "text": [
      "Pearson correlation coefficient:\n",
      "             timestamp       co2  humidity     light  pir  temperature\n",
      "timestamp     1.000000  0.130108  0.295280  0.015510  NaN     0.017738\n",
      "co2           0.130108  1.000000 -0.034329  0.249571  NaN     0.197526\n",
      "humidity      0.295280 -0.034329  1.000000  0.023553  NaN    -0.550760\n",
      "light         0.015510  0.249571  0.023553  1.000000  NaN     0.018776\n",
      "pir                NaN       NaN       NaN       NaN  NaN          NaN\n",
      "temperature   0.017738  0.197526 -0.550760  0.018776  NaN     1.000000\n"
     ]
    }
   ],
   "source": [
    "print(\"Pearson correlation coefficient:\")\n",
    "print(pearson_corr)"
   ]
  },
  {
   "cell_type": "markdown",
   "metadata": {},
   "source": [
    "### Correlation Analysis\n",
    "\n",
    "The correlation coefficients provide insights into the relationships between different variables in the dataset. Here's a simplified interpretation of the correlation coefficients:\n",
    "\n",
    "- **Positive Correlation:**\n",
    "  - *Weak positive correlation:* CO2 shows a weak positive correlation with timestamp (0.118), light (0.160), PIR (0.236), and temperature (0.215). This suggests a slight tendency for CO2 levels to increase with these variables.\n",
    "  - *Very weak positive correlation:* Light exhibits a very weak positive correlation with CO2 (0.160) and PIR (0.137). There's also a very weak positive correlation between timestamp and humidity (0.291), and between PIR and CO2 (0.236).\n",
    "\n",
    "- **Negative Correlation:**\n",
    "  - *Moderate negative correlation:* Humidity has a moderate negative correlation with temperature (-0.684). This indicates a significant tendency for humidity to decrease as temperature increases, and vice versa.\n",
    "  - *Very weak negative correlation:* CO2 shows a very weak negative correlation with humidity (-0.049), and PIR exhibits a very weak negative correlation with humidity (-0.080). Additionally, timestamp and light have very weak negative correlations with temperature (-0.019 and 0.086, respectively).\n"
   ]
  },
  {
   "cell_type": "code",
   "execution_count": 21,
   "metadata": {},
   "outputs": [
    {
     "name": "stdout",
     "output_type": "stream",
     "text": [
      "\n",
      "Spearman rank correlation coefficient:\n",
      "             timestamp       co2  humidity     light  pir  temperature\n",
      "timestamp     1.000000  0.130431  0.308613  0.022946  NaN     0.008581\n",
      "co2           0.130431  1.000000 -0.021510  0.247354  NaN     0.181861\n",
      "humidity      0.308613 -0.021510  1.000000  0.026499  NaN    -0.562353\n",
      "light         0.022946  0.247354  0.026499  1.000000  NaN     0.008645\n",
      "pir                NaN       NaN       NaN       NaN  NaN          NaN\n",
      "temperature   0.008581  0.181861 -0.562353  0.008645  NaN     1.000000\n"
     ]
    }
   ],
   "source": [
    "print(\"\\nSpearman rank correlation coefficient:\")\n",
    "print(spearman_corr)"
   ]
  },
  {
   "cell_type": "markdown",
   "metadata": {},
   "source": [
    "### Spearman Rank Correlation Analysis\n",
    "\n",
    "The Spearman rank correlation coefficients provide insights into the relationships between different variables in the dataset. Here's a simplified interpretation of the Spearman rank correlation coefficients:\n",
    "\n",
    "- **Positive Correlation:**\n",
    "  - *Weak positive correlation:* CO2 shows a weak positive correlation with timestamp (0.125), light (0.262), PIR (0.202), and temperature (0.220). This suggests a slight tendency for CO2 levels to increase with these variables.\n",
    "  - *Very weak positive correlation:* Light exhibits a very weak positive correlation with PIR (0.240). Additionally, timestamp and humidity have a very weak positive correlation (0.305).\n",
    "\n",
    "- **Negative Correlation:**\n",
    "  - *Moderate negative correlation:* Humidity has a moderate negative correlation with temperature (-0.657). This indicates a significant tendency for humidity to decrease as temperature increases, and vice versa.\n",
    "  - *Very weak negative correlation:* CO2 shows a very weak negative correlation with humidity (-0.044). Additionally, PIR exhibits a very weak negative correlation with humidity (-0.082). Timestamp and light also have very weak negative correlations with temperature (0.025 and 0.092, respectively).\n"
   ]
  },
  {
   "cell_type": "code",
   "execution_count": 22,
   "metadata": {},
   "outputs": [
    {
     "name": "stdout",
     "output_type": "stream",
     "text": [
      "Correlation Matrix:\n",
      "             timestamp       co2  humidity     light  pir  temperature\n",
      "timestamp     1.000000  0.130108  0.295280  0.015510  NaN     0.017738\n",
      "co2           0.130108  1.000000 -0.034329  0.249571  NaN     0.197526\n",
      "humidity      0.295280 -0.034329  1.000000  0.023553  NaN    -0.550760\n",
      "light         0.015510  0.249571  0.023553  1.000000  NaN     0.018776\n",
      "pir                NaN       NaN       NaN       NaN  NaN          NaN\n",
      "temperature   0.017738  0.197526 -0.550760  0.018776  NaN     1.000000\n"
     ]
    }
   ],
   "source": [
    "# Calculate the correlation matrix\n",
    "correlation_matrix = df_cleaned.corr()\n",
    "\n",
    "# Print the correlation matrix\n",
    "print(\"Correlation Matrix:\")\n",
    "print(correlation_matrix)"
   ]
  },
  {
   "cell_type": "markdown",
   "metadata": {},
   "source": [
    "### Correlation Analysis\n",
    "\n",
    "The correlation coefficients provide insights into the relationships between different variables in the dataset. Here's a simplified interpretation of the correlation coefficients:\n",
    "\n",
    "- **Positive Correlation:**\n",
    "  - *Strong positive correlation:* There are no variables with a strong positive correlation (|correlation coefficient| > 0.7).\n",
    "  - *Moderate positive correlation:* Humidity has a moderate positive correlation with timestamp (0.291), while CO2 shows a moderate positive correlation with PIR (0.236).\n",
    "  - *Weak positive correlation:* CO2 shows a weak positive correlation with timestamp (0.118), light (0.160), and temperature (0.215). Light also exhibits a weak positive correlation with PIR (0.137).\n",
    "\n",
    "- **Negative Correlation:**\n",
    "  - *Strong negative correlation:* Humidity has a strong negative correlation with temperature (-0.684), indicating a significant tendency for humidity to decrease as temperature increases, and vice versa.\n",
    "  - *Moderate negative correlation:* There are no variables with a moderate negative correlation (|correlation coefficient| > 0.4).\n",
    "  - *Weak negative correlation:* CO2 shows a weak negative correlation with humidity (-0.049), while PIR exhibits a weak negative correlation with humidity (-0.080). Additionally, temperature has a weak negative correlation with humidity (-0.684)."
   ]
  },
  {
   "cell_type": "code",
   "execution_count": 23,
   "metadata": {},
   "outputs": [],
   "source": [
    "from sklearn.model_selection import train_test_split\n",
    "from sklearn.linear_model import LinearRegression\n",
    "from sklearn.tree import DecisionTreeRegressor\n",
    "from sklearn.ensemble import RandomForestRegressor\n",
    "from sklearn.svm import SVR\n",
    "from sklearn.neighbors import KNeighborsRegressor\n",
    "from sklearn.metrics import mean_squared_error, mean_absolute_error, r2_score\n",
    "from sklearn.preprocessing import PolynomialFeatures\n",
    "from sklearn.preprocessing import StandardScaler\n",
    "from sklearn.feature_selection import SelectKBest, f_regression\n",
    "from sklearn.pipeline import make_pipeline\n",
    "from sklearn.linear_model import Ridge"
   ]
  },
  {
   "cell_type": "code",
   "execution_count": 24,
   "metadata": {},
   "outputs": [],
   "source": [
    "positive_features = ['humidity','co2', 'light', 'pir']"
   ]
  },
  {
   "cell_type": "code",
   "execution_count": 30,
   "metadata": {},
   "outputs": [],
   "source": [
    "X = df_cleaned[['co2', 'humidity', 'light', 'pir']]  # Features\n",
    "y = df_cleaned['temperature']  # Target variable\n",
    "\n",
    "X_train, X_test, y_train, y_test = train_test_split(X, y, test_size=0.2, random_state=42)"
   ]
  },
  {
   "cell_type": "code",
   "execution_count": 31,
   "metadata": {},
   "outputs": [
    {
     "name": "stdout",
     "output_type": "stream",
     "text": [
      "Linear Regression with Feature Scaling, Feature Selection, and Polynomial Features:\n",
      "Mean Squared Error: 0.0007113715651594083\n",
      "Mean Absolute Error: 0.021110346286673944\n",
      "R-squared: 0.3636482593813616\n"
     ]
    }
   ],
   "source": [
    "# Feature Scaling\n",
    "scaler = StandardScaler()\n",
    "X_train_scaled = scaler.fit_transform(X_train)\n",
    "X_test_scaled = scaler.transform(X_test)\n",
    "\n",
    "# Feature Selection\n",
    "selector = SelectKBest(score_func=f_regression, k=10)  # Adjust k as needed\n",
    "X_train_selected = selector.fit_transform(X_train_scaled, y_train)\n",
    "X_test_selected = selector.transform(X_test_scaled)\n",
    "\n",
    "# Linear Regression with Feature Scaling, Feature Selection, and Polynomial Features\n",
    "linear_regression_model = make_pipeline(\n",
    "    StandardScaler(),\n",
    "    SelectKBest(score_func=f_regression, k=10),  # Adjust k as needed\n",
    "    PolynomialFeatures(degree=2),  # You can adjust the degree as needed\n",
    "    LinearRegression()\n",
    ")\n",
    "\n",
    "linear_regression_model.fit(X_train, y_train)\n",
    "y_pred_lr = linear_regression_model.predict(X_test)\n",
    "mse_lr = mean_squared_error(y_test, y_pred_lr)\n",
    "mae_lr = mean_absolute_error(y_test, y_pred_lr)\n",
    "r2_lr = r2_score(y_test, y_pred_lr)\n",
    "\n",
    "print(\"Linear Regression with Feature Scaling, Feature Selection, and Polynomial Features:\")\n",
    "print(\"Mean Squared Error:\", mse_lr)\n",
    "print(\"Mean Absolute Error:\", mae_lr)\n",
    "print(\"R-squared:\", r2_lr)"
   ]
  },
  {
   "cell_type": "code",
   "execution_count": 32,
   "metadata": {},
   "outputs": [
    {
     "name": "stdout",
     "output_type": "stream",
     "text": [
      "Linear Regression with Polynomial Features:\n",
      "Mean Squared Error: 0.0007113715651594083\n",
      "Mean Absolute Error: 0.021110346286673944\n",
      "R-squared: 0.3636482593813616\n"
     ]
    }
   ],
   "source": [
    "# Polynomial Features\n",
    "poly = PolynomialFeatures(degree=2)  # You can adjust the degree as needed\n",
    "X_train_poly = poly.fit_transform(X_train_scaled)\n",
    "X_test_poly = poly.transform(X_test_scaled)\n",
    "\n",
    "# Linear Regression with Polynomial Features\n",
    "linear_regression_model_poly = LinearRegression()\n",
    "linear_regression_model_poly.fit(X_train_poly, y_train)\n",
    "y_pred_lr_poly = linear_regression_model_poly.predict(X_test_poly)\n",
    "mse_lr_poly = mean_squared_error(y_test, y_pred_lr_poly)\n",
    "mae_lr_poly = mean_absolute_error(y_test, y_pred_lr_poly)\n",
    "r2_lr_poly = r2_score(y_test, y_pred_lr_poly)\n",
    "\n",
    "print(\"Linear Regression with Polynomial Features:\")\n",
    "print(\"Mean Squared Error:\", mse_lr_poly)\n",
    "print(\"Mean Absolute Error:\", mae_lr_poly)\n",
    "print(\"R-squared:\", r2_lr_poly)"
   ]
  },
  {
   "cell_type": "code",
   "execution_count": 33,
   "metadata": {},
   "outputs": [
    {
     "name": "stdout",
     "output_type": "stream",
     "text": [
      "\n",
      "Decision Tree:\n",
      "Mean Squared Error: 0.000674757934739031\n",
      "Mean Absolute Error: 0.0204913733862188\n",
      "R-squared: 0.39640068946078655\n"
     ]
    }
   ],
   "source": [
    "# Decision Tree with specific parameters\n",
    "decision_tree_model = DecisionTreeRegressor(max_depth=5, min_samples_split=2)\n",
    "decision_tree_model.fit(X_train, y_train)\n",
    "y_pred_dt = decision_tree_model.predict(X_test)\n",
    "mse_dt = mean_squared_error(y_test, y_pred_dt)\n",
    "mae_dt = mean_absolute_error(y_test, y_pred_dt)\n",
    "r2_dt = r2_score(y_test, y_pred_dt)\n",
    "\n",
    "print(\"\\nDecision Tree:\")\n",
    "print(\"Mean Squared Error:\", mse_dt)\n",
    "print(\"Mean Absolute Error:\", mae_dt)\n",
    "print(\"R-squared:\", r2_dt)"
   ]
  },
  {
   "cell_type": "code",
   "execution_count": 34,
   "metadata": {},
   "outputs": [
    {
     "name": "stdout",
     "output_type": "stream",
     "text": [
      "\n",
      "Random Forest:\n",
      "Mean Squared Error: 0.0006726586557110558\n",
      "Mean Absolute Error: 0.020475787834517593\n",
      "R-squared: 0.398278582715062\n"
     ]
    }
   ],
   "source": [
    "# Random Forest with specific parameters\n",
    "random_forest_model = RandomForestRegressor(n_estimators=100, max_depth=5, min_samples_split=2)\n",
    "random_forest_model.fit(X_train, y_train)\n",
    "y_pred_rf = random_forest_model.predict(X_test)\n",
    "mse_rf = mean_squared_error(y_test, y_pred_rf)\n",
    "mae_rf = mean_absolute_error(y_test, y_pred_rf)\n",
    "r2_rf = r2_score(y_test, y_pred_rf)\n",
    "\n",
    "print(\"\\nRandom Forest:\")\n",
    "print(\"Mean Squared Error:\", mse_rf)\n",
    "print(\"Mean Absolute Error:\", mae_rf)\n",
    "print(\"R-squared:\", r2_rf)"
   ]
  },
  {
   "cell_type": "code",
   "execution_count": 35,
   "metadata": {},
   "outputs": [
    {
     "name": "stdout",
     "output_type": "stream",
     "text": [
      "\n",
      "K-Nearest Neighbors:\n",
      "Mean Squared Error: 0.0003716560891139407\n",
      "Mean Absolute Error: 0.011737402293536333\n",
      "R-squared: 0.6675380197883299\n"
     ]
    }
   ],
   "source": [
    "# K-Nearest Neighbors with specific parameters\n",
    "knn_model = KNeighborsRegressor(n_neighbors=5, weights='uniform')\n",
    "knn_model.fit(X_train, y_train)\n",
    "y_pred_knn = knn_model.predict(X_test)\n",
    "mse_knn = mean_squared_error(y_test, y_pred_knn)\n",
    "mae_knn = mean_absolute_error(y_test, y_pred_knn)\n",
    "r2_knn = r2_score(y_test, y_pred_knn)\n",
    "\n",
    "print(\"\\nK-Nearest Neighbors:\")\n",
    "print(\"Mean Squared Error:\", mse_knn)\n",
    "print(\"Mean Absolute Error:\", mae_knn)\n",
    "print(\"R-squared:\", r2_knn)"
   ]
  },
  {
   "cell_type": "code",
   "execution_count": 36,
   "metadata": {},
   "outputs": [
    {
     "name": "stdout",
     "output_type": "stream",
     "text": [
      "Ridge Regression:\n",
      "Mean Squared Error: 0.0007424281197647281\n",
      "Mean Absolute Error: 0.021962658887596295\n",
      "R-squared: 0.3358668669998929\n"
     ]
    }
   ],
   "source": [
    "# Ridge Regression with specific parameters\n",
    "ridge_regression_model = Ridge(alpha=0.5)  # You can adjust the alpha parameter\n",
    "ridge_regression_model.fit(X_train, y_train)\n",
    "y_pred_ridge = ridge_regression_model.predict(X_test)\n",
    "mse_ridge = mean_squared_error(y_test, y_pred_ridge)\n",
    "mae_ridge = mean_absolute_error(y_test, y_pred_ridge)\n",
    "r2_ridge = r2_score(y_test, y_pred_ridge)\n",
    "\n",
    "print(\"Ridge Regression:\")\n",
    "print(\"Mean Squared Error:\", mse_ridge)\n",
    "print(\"Mean Absolute Error:\", mae_ridge)\n",
    "print(\"R-squared:\", r2_ridge)"
   ]
  },
  {
   "cell_type": "code",
   "execution_count": 37,
   "metadata": {},
   "outputs": [],
   "source": [
    "from sklearn.neural_network import MLPRegressor\n",
    "from sklearn.ensemble import GradientBoostingRegressor"
   ]
  },
  {
   "cell_type": "code",
   "execution_count": 39,
   "metadata": {},
   "outputs": [
    {
     "name": "stdout",
     "output_type": "stream",
     "text": [
      "\n",
      "Multilayer Perceptron (MLP):\n",
      "Mean Squared Error: 0.0007722422839547819\n",
      "Mean Absolute Error: 0.02219457886170962\n",
      "R-squared: 0.3091968450217454\n"
     ]
    }
   ],
   "source": [
    "# Multilayer Perceptron (MLP) with specific parameters\n",
    "mlp_model = MLPRegressor(hidden_layer_sizes=(100, 50), activation='relu', solver='adam', alpha=0.0001)\n",
    "mlp_model.fit(X_train, y_train)\n",
    "y_pred_mlp = mlp_model.predict(X_test)\n",
    "mse_mlp = mean_squared_error(y_test, y_pred_mlp)\n",
    "mae_mlp = mean_absolute_error(y_test, y_pred_mlp)\n",
    "r2_mlp = r2_score(y_test, y_pred_mlp)\n",
    "\n",
    "print(\"\\nMultilayer Perceptron (MLP):\")\n",
    "print(\"Mean Squared Error:\", mse_mlp)\n",
    "print(\"Mean Absolute Error:\", mae_mlp)\n",
    "print(\"R-squared:\", r2_mlp)"
   ]
  },
  {
   "cell_type": "code",
   "execution_count": 38,
   "metadata": {},
   "outputs": [
    {
     "name": "stdout",
     "output_type": "stream",
     "text": [
      "\n",
      "Gradient Boosting Regressor:\n",
      "Mean Squared Error: 0.0005702224278896599\n",
      "Mean Absolute Error: 0.018580754708391933\n",
      "R-squared: 0.4899120905316775\n"
     ]
    }
   ],
   "source": [
    "# Gradient Boosting Regressor with specific parameters\n",
    "gradient_boosting_model = GradientBoostingRegressor(n_estimators=100, learning_rate=0.1, max_depth=5, loss='squared_error')\n",
    "gradient_boosting_model.fit(X_train, y_train)\n",
    "y_pred_gb = gradient_boosting_model.predict(X_test)\n",
    "mse_gb = mean_squared_error(y_test, y_pred_gb)\n",
    "mae_gb = mean_absolute_error(y_test, y_pred_gb)\n",
    "r2_gb = r2_score(y_test, y_pred_gb)\n",
    "\n",
    "print(\"\\nGradient Boosting Regressor:\")\n",
    "print(\"Mean Squared Error:\", mse_gb)\n",
    "print(\"Mean Absolute Error:\", mae_gb)\n",
    "print(\"R-squared:\", r2_gb)"
   ]
  },
  {
   "cell_type": "code",
   "execution_count": 40,
   "metadata": {},
   "outputs": [
    {
     "name": "stdout",
     "output_type": "stream",
     "text": [
      "Model Comparison:\n",
      "                             Mean Squared Error  Mean Absolute Error  R-squared\n",
      "Linear Regression                      0.000711             0.021110   0.363648\n",
      "Ridge Regression                       0.000742             0.021963   0.335867\n",
      "Decision Tree                          0.000675             0.020491   0.396401\n",
      "Random Forest                          0.000673             0.020476   0.398279\n",
      "K-Nearest Neighbors                    0.000372             0.011737   0.667538\n",
      "Multilayer Perceptron (MLP)            0.000772             0.022195   0.309197\n",
      "Gradient Boosting Regressor            0.000570             0.018581   0.489912\n"
     ]
    }
   ],
   "source": [
    "# Collecting evaluation metrics of all models into a dictionary\n",
    "pd.set_option('display.width', 1000)\n",
    "results_dict = {\n",
    "    \"Linear Regression\": [mse_lr, mae_lr, r2_lr],\n",
    "    \"Ridge Regression\": [mse_ridge, mae_ridge, r2_ridge],\n",
    "    \"Decision Tree\": [mse_dt, mae_dt, r2_dt],\n",
    "    \"Random Forest\": [mse_rf, mae_rf, r2_rf],\n",
    "    \"K-Nearest Neighbors\": [mse_knn, mae_knn, r2_knn],\n",
    "    \"Multilayer Perceptron (MLP)\": [mse_mlp, mae_mlp, r2_mlp],\n",
    "    \"Gradient Boosting Regressor\": [mse_gb, mae_gb, r2_gb]\n",
    "}\n",
    "\n",
    "# Convert the dictionary into a DataFrame\n",
    "results_df = pd.DataFrame(results_dict, index=['Mean Squared Error', 'Mean Absolute Error', 'R-squared'])\n",
    "\n",
    "# Transpose the DataFrame for better readability\n",
    "results_df = results_df.T\n",
    "\n",
    "print(\"Model Comparison:\")\n",
    "print(results_df)"
   ]
  }
 ],
 "metadata": {
  "kernelspec": {
   "display_name": "Python 3",
   "language": "python",
   "name": "python3"
  },
  "language_info": {
   "codemirror_mode": {
    "name": "ipython",
    "version": 3
   },
   "file_extension": ".py",
   "mimetype": "text/x-python",
   "name": "python",
   "nbconvert_exporter": "python",
   "pygments_lexer": "ipython3",
   "version": "3.11.7"
  }
 },
 "nbformat": 4,
 "nbformat_minor": 2
}
